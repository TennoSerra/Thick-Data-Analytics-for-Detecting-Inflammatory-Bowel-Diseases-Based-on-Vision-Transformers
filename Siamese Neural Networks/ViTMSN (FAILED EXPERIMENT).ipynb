{
 "cells": [
  {
   "cell_type": "code",
   "execution_count": null,
   "id": "fee118be-040f-4850-a28b-5ed7dee86c80",
   "metadata": {},
   "outputs": [],
   "source": [
    "import os\n",
    "import torch\n",
    "import torchvision.transforms as transforms\n",
    "import torchvision.datasets as datasets\n",
    "from torch.utils.data import DataLoader, random_split\n",
    "from transformers import ViTFeatureExtractor, ViTMSNForImageClassification\n",
    "from sklearn.metrics import accuracy_score, classification_report\n",
    "from tqdm import tqdm\n",
    "import numpy as np"
   ]
  },
  {
   "cell_type": "code",
   "execution_count": null,
   "id": "c983d574-5080-41d6-aa83-5c4f7b103b49",
   "metadata": {},
   "outputs": [],
   "source": [
    "data_dir = r\"..\\Datasets\\kvasir-dataset-v2\"\n",
    "\n",
    "train_classes = ['dyed-lifted-polyps', 'dyed-resection-margins', 'esophagitis', 'normal-cecum', 'normal-pylorus', 'normal-z-line', 'ulcerative-colitis']\n",
    "\n",
    "dataset = datasets.ImageFolder(root=data_dir, transform=transforms.ToTensor())\n",
    "\n",
    "train_indices = [i for i, (img, label) in enumerate(dataset) if dataset.classes[label] in train_classes]\n",
    "train_subset = torch.utils.data.Subset(dataset, train_indices)\n"
   ]
  },
  {
   "cell_type": "code",
   "execution_count": null,
   "id": "6273f61f-4f5d-4b12-9fee-4f084e6e9e1a",
   "metadata": {},
   "outputs": [],
   "source": [
    "train_size = int(0.8 * len(train_subset))\n",
    "test_size = len(train_subset) - train_size\n",
    "train_dataset, test_dataset = random_split(train_subset, [train_size, test_size])\n",
    "\n",
    "train_loader = DataLoader(train_dataset, batch_size=32, shuffle=True)\n",
    "test_loader = DataLoader(test_dataset, batch_size=32, shuffle=False)\n"
   ]
  },
  {
   "cell_type": "code",
   "execution_count": null,
   "id": "73b7d81b-490e-483d-98e1-43d33384805d",
   "metadata": {},
   "outputs": [],
   "source": [
    "feature_extractor = ViTFeatureExtractor.from_pretrained('microsoft/vit-msn')\n",
    "model = ViTMSNForImageClassification.from_pretrained('microsoft/vit-msn', num_labels=7)\n",
    "\n",
    "device = torch.device(\"cuda\" if torch.cuda.is_available() else \"cpu\")\n",
    "model.to(device)\n"
   ]
  },
  {
   "cell_type": "code",
   "execution_count": null,
   "id": "ad6b375c-99d2-4cbe-9283-b86ce41efdfc",
   "metadata": {},
   "outputs": [],
   "source": [
    "criterion = torch.nn.CrossEntropyLoss()\n",
    "optimizer = torch.optim.Adam(model.parameters(), lr=1e-5)\n",
    "\n",
    "num_epochs = 10\n",
    "patience = 3\n",
    "best_loss = np.inf\n",
    "early_stopping_counter = 0\n",
    "\n",
    "for epoch in range(num_epochs):\n",
    "    model.train()\n",
    "    running_loss = 0.0\n",
    "    train_loader = tqdm(train_loader, desc=f\"Epoch {epoch+1}/{num_epochs}\", leave=False)\n",
    "    for images, labels in train_loader:\n",
    "        images, labels = images.to(device), labels.to(device)\n",
    "\n",
    "        optimizer.zero_grad()\n",
    "        outputs = model(images).logits\n",
    "        loss = criterion(outputs, labels)\n",
    "        loss.backward()\n",
    "        optimizer.step()\n",
    "\n",
    "        running_loss += loss.item()\n",
    "        train_loader.set_postfix({'Loss': loss.item()})\n",
    "\n",
    "    epoch_loss = running_loss / len(train_loader)\n",
    "    print(f\"Epoch {epoch+1}/{num_epochs}, Loss: {epoch_loss}\")\n",
    "\n",
    "    if epoch_loss < best_loss:\n",
    "        best_loss = epoch_loss\n",
    "        early_stopping_counter = 0\n",
    "    else:\n",
    "        early_stopping_counter += 1\n",
    "        if early_stopping_counter >= patience:\n",
    "            print(f\"Early stopping triggered after {epoch+1} epochs.\")\n",
    "            break\n",
    "\n",
    "    model.eval()\n",
    "    all_labels = []\n",
    "    all_predictions = []\n",
    "    with torch.no_grad():\n",
    "        for images, labels in test_loader:\n",
    "            images = images.to(device)\n",
    "            outputs = model(images).logits\n",
    "            predictions = outputs.argmax(dim=1).cpu().numpy()\n",
    "            all_labels.extend(labels.cpu().numpy())\n",
    "            all_predictions.extend(predictions)\n",
    "\n",
    "    accuracy = accuracy_score(all_labels, all_predictions)\n",
    "    print(f\"Test Accuracy: {accuracy}\")\n",
    "    print(classification_report(all_labels, all_predictions, target_names=train_classes))\n"
   ]
  },
  {
   "cell_type": "code",
   "execution_count": null,
   "id": "fc044d2c-3313-4371-921e-34856333eea5",
   "metadata": {},
   "outputs": [],
   "source": [
    "polyps_indices = [i for i, (img, label) in enumerate(dataset) if dataset.classes[label] == 'polyps']\n",
    "polyps_subset = torch.utils.data.Subset(dataset, polyps_indices)\n",
    "few_shot_size = 5\n",
    "few_shot_loader = DataLoader(polyps_subset, batch_size=few_shot_size, shuffle=True)\n",
    "\n",
    "model.train()\n",
    "for epoch in range(num_epochs):\n",
    "    running_loss = 0.0\n",
    "    few_shot_loader = tqdm(few_shot_loader, desc=f\"Fine-tuning Epoch {epoch+1}/{num_epochs}\", leave=False)\n",
    "    for images, _ in few_shot_loader:\n",
    "        images = images.to(device)\n",
    "\n",
    "        optimizer.zero_grad()\n",
    "        outputs = model(images).logits\n",
    "        loss = criterion(outputs, torch.zeros_like(outputs))\n",
    "        loss.backward()\n",
    "        optimizer.step()\n",
    "\n",
    "        running_loss += loss.item()\n",
    "        few_shot_loader.set_postfix({'Loss': loss.item()})\n",
    "\n",
    "    print(f\"Fine-tuning Epoch {epoch+1}/{num_epochs}, Loss: {running_loss/len(few_shot_loader)}\")\n"
   ]
  },
  {
   "cell_type": "code",
   "execution_count": null,
   "id": "a0f23267-168c-48e3-9587-680379ad4bd4",
   "metadata": {},
   "outputs": [],
   "source": []
  }
 ],
 "metadata": {
  "kernelspec": {
   "display_name": "Python 3 (ipykernel)",
   "language": "python",
   "name": "python3"
  },
  "language_info": {
   "codemirror_mode": {
    "name": "ipython",
    "version": 3
   },
   "file_extension": ".py",
   "mimetype": "text/x-python",
   "name": "python",
   "nbconvert_exporter": "python",
   "pygments_lexer": "ipython3",
   "version": "3.12.8"
  }
 },
 "nbformat": 4,
 "nbformat_minor": 5
}
